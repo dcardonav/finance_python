{
 "cells": [
  {
   "cell_type": "markdown",
   "metadata": {},
   "source": [
    "# Calculating Returns"
   ]
  },
  {
   "cell_type": "code",
   "execution_count": 1,
   "outputs": [],
   "source": [
    "import numpy as np\n",
    "import pandas as pd"
   ],
   "metadata": {
    "collapsed": false,
    "pycharm": {
     "name": "#%%\n"
    }
   }
  },
  {
   "cell_type": "code",
   "execution_count": 2,
   "metadata": {},
   "outputs": [
    {
     "data": {
      "text/plain": "   BLUE  ORANGE\n0  8.70   10.66\n1  8.91   11.08\n2  8.71   10.71\n3  8.43   11.59\n4  8.73   12.11",
      "text/html": "<div>\n<style scoped>\n    .dataframe tbody tr th:only-of-type {\n        vertical-align: middle;\n    }\n\n    .dataframe tbody tr th {\n        vertical-align: top;\n    }\n\n    .dataframe thead th {\n        text-align: right;\n    }\n</style>\n<table border=\"1\" class=\"dataframe\">\n  <thead>\n    <tr style=\"text-align: right;\">\n      <th></th>\n      <th>BLUE</th>\n      <th>ORANGE</th>\n    </tr>\n  </thead>\n  <tbody>\n    <tr>\n      <th>0</th>\n      <td>8.70</td>\n      <td>10.66</td>\n    </tr>\n    <tr>\n      <th>1</th>\n      <td>8.91</td>\n      <td>11.08</td>\n    </tr>\n    <tr>\n      <th>2</th>\n      <td>8.71</td>\n      <td>10.71</td>\n    </tr>\n    <tr>\n      <th>3</th>\n      <td>8.43</td>\n      <td>11.59</td>\n    </tr>\n    <tr>\n      <th>4</th>\n      <td>8.73</td>\n      <td>12.11</td>\n    </tr>\n  </tbody>\n</table>\n</div>"
     },
     "execution_count": 2,
     "metadata": {},
     "output_type": "execute_result"
    }
   ],
   "source": [
    "prices = np.array([8.7, 8.91, 8.71])\n",
    "prices[1]/prices[0]-1\n",
    "prices[1:] / prices[:-1] - 1\n",
    "\n",
    "df_prices = pd.DataFrame({'BLUE':[8.7, 8.91, 8.71, 8.43, 8.73],\n",
    "                          'ORANGE':[10.66, 11.08, 10.71, 11.59, 12.11]})\n",
    "df_prices"
   ]
  },
  {
   "cell_type": "code",
   "execution_count": 3,
   "outputs": [
    {
     "data": {
      "text/plain": "       BLUE    ORANGE\n0       NaN       NaN\n1  0.024138  0.039400\n2 -0.022447 -0.033394\n3 -0.032147  0.082166\n4  0.035587  0.044866",
      "text/html": "<div>\n<style scoped>\n    .dataframe tbody tr th:only-of-type {\n        vertical-align: middle;\n    }\n\n    .dataframe tbody tr th {\n        vertical-align: top;\n    }\n\n    .dataframe thead th {\n        text-align: right;\n    }\n</style>\n<table border=\"1\" class=\"dataframe\">\n  <thead>\n    <tr style=\"text-align: right;\">\n      <th></th>\n      <th>BLUE</th>\n      <th>ORANGE</th>\n    </tr>\n  </thead>\n  <tbody>\n    <tr>\n      <th>0</th>\n      <td>NaN</td>\n      <td>NaN</td>\n    </tr>\n    <tr>\n      <th>1</th>\n      <td>0.024138</td>\n      <td>0.039400</td>\n    </tr>\n    <tr>\n      <th>2</th>\n      <td>-0.022447</td>\n      <td>-0.033394</td>\n    </tr>\n    <tr>\n      <th>3</th>\n      <td>-0.032147</td>\n      <td>0.082166</td>\n    </tr>\n    <tr>\n      <th>4</th>\n      <td>0.035587</td>\n      <td>0.044866</td>\n    </tr>\n  </tbody>\n</table>\n</div>"
     },
     "execution_count": 3,
     "metadata": {},
     "output_type": "execute_result"
    }
   ],
   "source": [
    "df_prices.iloc[1:] / df_prices[:-1].values -1 #Removing index from one varible\n",
    "df_prices/df_prices.shift(1) - 1 # Shifting to the 1 row\n",
    "df_prices.pct_change() # Using pct_change function from Pandas Dataframe\n"
   ],
   "metadata": {
    "collapsed": false,
    "pycharm": {
     "name": "#%%\n"
    }
   }
  },
  {
   "cell_type": "code",
   "execution_count": 4,
   "outputs": [
    {
     "name": "stdout",
     "output_type": "stream",
     "text": [
      "BLUE      0.023977\n",
      "ORANGE    0.079601\n",
      "dtype: float64\n",
      "BLUE      0.123310\n",
      "ORANGE    0.087167\n",
      "dtype: float64\n"
     ]
    },
    {
     "data": {
      "text/plain": "<Figure size 432x288 with 1 Axes>",
      "image/png": "[encoded data removed]"
     },
     "metadata": {
      "needs_background": "light"
     },
     "output_type": "display_data"
    },
    {
     "data": {
      "text/plain": "<Figure size 432x288 with 1 Axes>",
      "image/png": "[encoded data removed]"
     },
     "metadata": {
      "needs_background": "light"
     },
     "output_type": "display_data"
    }
   ],
   "source": [
    "df_sample = pd.read_csv('course_1/sample_prices.csv')\n",
    "df_sample\n",
    "\n",
    "df_returns = df_sample.pct_change()\n",
    "df_returns.plot.bar()\n",
    "df_sample.plot()\n",
    "print(df_returns.std()) # Standard Deviation of returns\n",
    "\n",
    "df_returns = df_returns + 1\n",
    "\n",
    "# using numpy to compound the returns\n",
    "print(np.prod(df_returns)-1)\n"
   ],
   "metadata": {
    "collapsed": false,
    "pycharm": {
     "name": "#%%\n"
    }
   }
  },
  {
   "cell_type": "markdown",
   "source": [
    "## Annualization of Returns"
   ],
   "metadata": {
    "collapsed": false
   }
  },
  {
   "cell_type": "code",
   "execution_count": 5,
   "outputs": [
    {
     "data": {
      "text/plain": "0.025518911987694626"
     },
     "execution_count": 5,
     "metadata": {},
     "output_type": "execute_result"
    }
   ],
   "source": [
    "rm = 0.01 # 1% return per month\n",
    "(1+rm) ** 12 -1 # return over a year\n",
    "\n",
    "rd = 0.0001\n",
    "(1+rd)**252 -1 # daily returns times trading days"
   ],
   "metadata": {
    "collapsed": false,
    "pycharm": {
     "name": "#%%\n"
    }
   }
  },
  {
   "cell_type": "markdown",
   "source": [
    "# Risk-Adjusted Returns"
   ],
   "metadata": {
    "collapsed": false,
    "pycharm": {
     "name": "#%% md\n"
    }
   }
  },
  {
   "cell_type": "code",
   "execution_count": 20,
   "outputs": [
    {
     "name": "stdout",
     "output_type": "stream",
     "text": [
      "BLUE      0.022957\n",
      "ORANGE    0.076212\n",
      "dtype: float64\n",
      "BLUE      0.023977\n",
      "ORANGE    0.079601\n",
      "dtype: float64\n",
      "BLUE      0.022957\n",
      "ORANGE    0.076212\n",
      "dtype: float64\n",
      "BLUE      0.083060\n",
      "ORANGE    0.275747\n",
      "dtype: float64\n"
     ]
    }
   ],
   "source": [
    "df_returns.std()\n",
    "\n",
    "# calculating volatility step by step\n",
    "deviations = df_returns - df_returns.mean()\n",
    "sq_dev = deviations ** 2\n",
    "vari = sq_dev.mean()\n",
    "volatility = np.sqrt(vari) # remember that the standard deviation divides by n-1\n",
    "\n",
    "print(volatility)\n",
    "print(df_returns.std())\n",
    "\n",
    "vari = sq_dev.sum()/(df_returns.shape[0] -1)\n",
    "volatility = np.power(vari, 0.5)\n",
    "print(volatility)\n",
    "\n",
    "ann_volat = df_returns.std()*np.sqrt(12) # annualizing volatility\n",
    "print(ann_volat)"
   ],
   "metadata": {
    "collapsed": false,
    "pycharm": {
     "name": "#%%\n"
    }
   }
  },
  {
   "cell_type": "code",
   "execution_count": 41,
   "outputs": [
    {
     "name": "stdout",
     "output_type": "stream",
     "text": [
      "SmallCap    0.454825\n",
      "LargeCap    0.497063\n",
      "dtype: float64\n"
     ]
    },
    {
     "data": {
      "text/plain": "SmallCap    0.373346\nLargeCap    0.336392\ndtype: float64"
     },
     "execution_count": 41,
     "metadata": {},
     "output_type": "execute_result"
    },
    {
     "data": {
      "text/plain": "<Figure size 432x288 with 1 Axes>",
      "image/png": "[encoded data removed]"
     },
     "metadata": {
      "needs_background": "light"
     },
     "output_type": "display_data"
    }
   ],
   "source": [
    "# loading the dataset, indicating if it has header and telling it to try to figure out dates and specifying a value\n",
    "# for the na's (99.99)\n",
    "returns = pd.read_csv('course_1/Portfolios_Formed_on_ME_monthly_EW.csv', header=0, index_col=0,parse_dates=True,\n",
    "                      na_values=99.99)\n",
    "\n",
    "columns = ['Lo 10', 'Hi 10']\n",
    "returns = returns[columns]/100\n",
    "returns.columns = ['SmallCap', 'LargeCap']\n",
    "returns.plot.line()\n",
    "\n",
    "returns.std()\n",
    "\n",
    "annualized_vol = returns.std()*np.sqrt(12)\n",
    "annualized_vol\n",
    "\n",
    "# annualizing returns\n",
    "return_per_month = (returns + 1).prod() ** (1/returns.shape[0]) -1\n",
    "return_per_month\n",
    "\n",
    "annualized_return = (return_per_month + 1) ** (12) - 1\n",
    "annualized_return\n",
    "\n",
    "# risk-adjusted return\n",
    "print(annualized_return / annualized_vol)\n",
    "\n",
    "riskfree_rate = 0.03\n",
    "excess_return = annualized_return - riskfree_rate\n",
    "sharpe_ratio = excess_return / annualized_vol\n",
    "sharpe_ratio # SmallCap give you a slightly superior return over LargeCap"
   ],
   "metadata": {
    "collapsed": false,
    "pycharm": {
     "name": "#%%\n"
    }
   }
  },
  {
   "cell_type": "code",
   "execution_count": null,
   "outputs": [],
   "source": [],
   "metadata": {
    "collapsed": false,
    "pycharm": {
     "name": "#%%\n"
    }
   }
  }
 ],
 "metadata": {
  "kernelspec": {
   "display_name": "Python 3",
   "language": "python",
   "name": "python3"
  },
  "language_info": {
   "codemirror_mode": {
    "name": "ipython",
    "version": 3
   },
   "file_extension": ".py",
   "mimetype": "text/x-python",
   "name": "python",
   "nbconvert_exporter": "python",
   "pygments_lexer": "ipython3",
   "version": "3.7.9"
  }
 },
 "nbformat": 4,
 "nbformat_minor": 4
}