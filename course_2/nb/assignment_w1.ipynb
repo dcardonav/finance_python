{
 "cells": [
  {
   "cell_type": "markdown",
   "id": "ea2e9803421b23a3",
   "metadata": {
    "collapsed": false,
    "jupyter": {
     "outputs_hidden": false
    }
   },
   "source": [
    "# Assignment Week 1"
   ]
  },
  {
   "cell_type": "code",
   "execution_count": 1,
   "id": "82787d9c7af9a3cf",
   "metadata": {
    "ExecuteTime": {
     "start_time": "2024-01-01T09:19:55.344207700Z"
    },
    "collapsed": false,
    "is_executing": true,
    "jupyter": {
     "outputs_hidden": false
    }
   },
   "outputs": [],
   "source": [
    "import edhec_risk_kit_206 as erk"
   ]
  },
  {
   "cell_type": "code",
   "execution_count": 2,
   "id": "6013d55be444172e",
   "metadata": {
    "ExecuteTime": {
     "end_time": "2023-12-31T01:28:20.907900200Z",
     "start_time": "2023-12-31T01:28:20.890939100Z"
    },
    "collapsed": false,
    "jupyter": {
     "outputs_hidden": false
    }
   },
   "outputs": [],
   "source": [
    "ind_cw = erk.get_ind_returns(weighting=\"vw\", n_inds=49)[\"1991\":]\n",
    "fff = erk.get_fff_returns()[\"1991\":]\n"
   ]
  },
  {
   "cell_type": "code",
   "execution_count": 3,
   "id": "e6f7e2d97ce09575",
   "metadata": {
    "ExecuteTime": {
     "end_time": "2023-12-31T01:33:21.064265500Z",
     "start_time": "2023-12-31T01:33:21.045778400Z"
    },
    "collapsed": false,
    "jupyter": {
     "outputs_hidden": false
    }
   },
   "outputs": [],
   "source": [
    "import statsmodels.api as sm\n",
    "ind_cw_excess = ind_cw - fff.loc[:, ['RF']].values\n",
    "mkt_excess = fff.loc[:,['Mkt-RF']]\n",
    "exp_var = mkt_excess.copy()\n",
    "exp_var[\"Constant\"] = 1"
   ]
  },
  {
   "cell_type": "code",
   "execution_count": 4,
   "id": "4465142bb2b9ad8b",
   "metadata": {
    "ExecuteTime": {
     "end_time": "2023-12-31T01:33:45.562290100Z",
     "start_time": "2023-12-31T01:33:45.540229800Z"
    },
    "collapsed": false,
    "jupyter": {
     "outputs_hidden": false
    }
   },
   "outputs": [
    {
     "data": {
      "text/html": [
       "<table class=\"simpletable\">\n",
       "<caption>OLS Regression Results</caption>\n",
       "<tr>\n",
       "  <th>Dep. Variable:</th>          <td>Beer</td>       <th>  R-squared:         </th> <td>   0.226</td>\n",
       "</tr>\n",
       "<tr>\n",
       "  <th>Model:</th>                   <td>OLS</td>       <th>  Adj. R-squared:    </th> <td>   0.224</td>\n",
       "</tr>\n",
       "<tr>\n",
       "  <th>Method:</th>             <td>Least Squares</td>  <th>  F-statistic:       </th> <td>   97.55</td>\n",
       "</tr>\n",
       "<tr>\n",
       "  <th>Date:</th>             <td>Mon, 01 Jan 2024</td> <th>  Prob (F-statistic):</th> <td>2.37e-20</td>\n",
       "</tr>\n",
       "<tr>\n",
       "  <th>Time:</th>                 <td>10:20:49</td>     <th>  Log-Likelihood:    </th> <td>  596.94</td>\n",
       "</tr>\n",
       "<tr>\n",
       "  <th>No. Observations:</th>      <td>   336</td>      <th>  AIC:               </th> <td>  -1190.</td>\n",
       "</tr>\n",
       "<tr>\n",
       "  <th>Df Residuals:</th>          <td>   334</td>      <th>  BIC:               </th> <td>  -1182.</td>\n",
       "</tr>\n",
       "<tr>\n",
       "  <th>Df Model:</th>              <td>     1</td>      <th>                     </th>     <td> </td>   \n",
       "</tr>\n",
       "<tr>\n",
       "  <th>Covariance Type:</th>      <td>nonrobust</td>    <th>                     </th>     <td> </td>   \n",
       "</tr>\n",
       "</table>\n",
       "<table class=\"simpletable\">\n",
       "<tr>\n",
       "      <td></td>        <th>coef</th>     <th>std err</th>      <th>t</th>      <th>P>|t|</th>  <th>[0.025</th>    <th>0.975]</th>  \n",
       "</tr>\n",
       "<tr>\n",
       "  <th>Mkt-RF</th>   <td>    0.5295</td> <td>    0.054</td> <td>    9.877</td> <td> 0.000</td> <td>    0.424</td> <td>    0.635</td>\n",
       "</tr>\n",
       "<tr>\n",
       "  <th>Constant</th> <td>    0.0043</td> <td>    0.002</td> <td>    1.892</td> <td> 0.059</td> <td>   -0.000</td> <td>    0.009</td>\n",
       "</tr>\n",
       "</table>\n",
       "<table class=\"simpletable\">\n",
       "<tr>\n",
       "  <th>Omnibus:</th>       <td>20.697</td> <th>  Durbin-Watson:     </th> <td>   2.079</td>\n",
       "</tr>\n",
       "<tr>\n",
       "  <th>Prob(Omnibus):</th> <td> 0.000</td> <th>  Jarque-Bera (JB):  </th> <td>  43.130</td>\n",
       "</tr>\n",
       "<tr>\n",
       "  <th>Skew:</th>          <td>-0.314</td> <th>  Prob(JB):          </th> <td>4.31e-10</td>\n",
       "</tr>\n",
       "<tr>\n",
       "  <th>Kurtosis:</th>      <td> 4.639</td> <th>  Cond. No.          </th> <td>    23.9</td>\n",
       "</tr>\n",
       "</table><br/><br/>Notes:<br/>[1] Standard Errors assume that the covariance matrix of the errors is correctly specified."
      ],
      "text/latex": [
       "\\begin{center}\n",
       "\\begin{tabular}{lclc}\n",
       "\\toprule\n",
       "\\textbf{Dep. Variable:}    &       Beer       & \\textbf{  R-squared:         } &     0.226   \\\\\n",
       "\\textbf{Model:}            &       OLS        & \\textbf{  Adj. R-squared:    } &     0.224   \\\\\n",
       "\\textbf{Method:}           &  Least Squares   & \\textbf{  F-statistic:       } &     97.55   \\\\\n",
       "\\textbf{Date:}             & Mon, 01 Jan 2024 & \\textbf{  Prob (F-statistic):} &  2.37e-20   \\\\\n",
       "\\textbf{Time:}             &     10:20:49     & \\textbf{  Log-Likelihood:    } &    596.94   \\\\\n",
       "\\textbf{No. Observations:} &         336      & \\textbf{  AIC:               } &    -1190.   \\\\\n",
       "\\textbf{Df Residuals:}     &         334      & \\textbf{  BIC:               } &    -1182.   \\\\\n",
       "\\textbf{Df Model:}         &           1      & \\textbf{                     } &             \\\\\n",
       "\\textbf{Covariance Type:}  &    nonrobust     & \\textbf{                     } &             \\\\\n",
       "\\bottomrule\n",
       "\\end{tabular}\n",
       "\\begin{tabular}{lcccccc}\n",
       "                  & \\textbf{coef} & \\textbf{std err} & \\textbf{t} & \\textbf{P$> |$t$|$} & \\textbf{[0.025} & \\textbf{0.975]}  \\\\\n",
       "\\midrule\n",
       "\\textbf{Mkt-RF}   &       0.5295  &        0.054     &     9.877  &         0.000        &        0.424    &        0.635     \\\\\n",
       "\\textbf{Constant} &       0.0043  &        0.002     &     1.892  &         0.059        &       -0.000    &        0.009     \\\\\n",
       "\\bottomrule\n",
       "\\end{tabular}\n",
       "\\begin{tabular}{lclc}\n",
       "\\textbf{Omnibus:}       & 20.697 & \\textbf{  Durbin-Watson:     } &    2.079  \\\\\n",
       "\\textbf{Prob(Omnibus):} &  0.000 & \\textbf{  Jarque-Bera (JB):  } &   43.130  \\\\\n",
       "\\textbf{Skew:}          & -0.314 & \\textbf{  Prob(JB):          } & 4.31e-10  \\\\\n",
       "\\textbf{Kurtosis:}      &  4.639 & \\textbf{  Cond. No.          } &     23.9  \\\\\n",
       "\\bottomrule\n",
       "\\end{tabular}\n",
       "%\\caption{OLS Regression Results}\n",
       "\\end{center}\n",
       "\n",
       "Notes: \\newline\n",
       " [1] Standard Errors assume that the covariance matrix of the errors is correctly specified."
      ],
      "text/plain": [
       "<class 'statsmodels.iolib.summary.Summary'>\n",
       "\"\"\"\n",
       "                            OLS Regression Results                            \n",
       "==============================================================================\n",
       "Dep. Variable:                   Beer   R-squared:                       0.226\n",
       "Model:                            OLS   Adj. R-squared:                  0.224\n",
       "Method:                 Least Squares   F-statistic:                     97.55\n",
       "Date:                Mon, 01 Jan 2024   Prob (F-statistic):           2.37e-20\n",
       "Time:                        10:20:49   Log-Likelihood:                 596.94\n",
       "No. Observations:                 336   AIC:                            -1190.\n",
       "Df Residuals:                     334   BIC:                            -1182.\n",
       "Df Model:                           1                                         \n",
       "Covariance Type:            nonrobust                                         \n",
       "==============================================================================\n",
       "                 coef    std err          t      P>|t|      [0.025      0.975]\n",
       "------------------------------------------------------------------------------\n",
       "Mkt-RF         0.5295      0.054      9.877      0.000       0.424       0.635\n",
       "Constant       0.0043      0.002      1.892      0.059      -0.000       0.009\n",
       "==============================================================================\n",
       "Omnibus:                       20.697   Durbin-Watson:                   2.079\n",
       "Prob(Omnibus):                  0.000   Jarque-Bera (JB):               43.130\n",
       "Skew:                          -0.314   Prob(JB):                     4.31e-10\n",
       "Kurtosis:                       4.639   Cond. No.                         23.9\n",
       "==============================================================================\n",
       "\n",
       "Notes:\n",
       "[1] Standard Errors assume that the covariance matrix of the errors is correctly specified.\n",
       "\"\"\""
      ]
     },
     "execution_count": 4,
     "metadata": {},
     "output_type": "execute_result"
    }
   ],
   "source": [
    "lm = sm.OLS(ind_cw_excess[\"Beer\"], exp_var).fit()\n",
    "lm.summary()"
   ]
  },
  {
   "cell_type": "code",
   "execution_count": 5,
   "id": "49b51c8a04f8bf3c",
   "metadata": {
    "ExecuteTime": {
     "end_time": "2023-12-31T01:33:30.555509200Z",
     "start_time": "2023-12-31T01:33:30.536651500Z"
    },
    "collapsed": false,
    "jupyter": {
     "outputs_hidden": false
    }
   },
   "outputs": [
    {
     "data": {
      "text/html": [
       "<table class=\"simpletable\">\n",
       "<caption>OLS Regression Results</caption>\n",
       "<tr>\n",
       "  <th>Dep. Variable:</th>          <td>Steel</td>      <th>  R-squared:         </th> <td>   0.631</td>\n",
       "</tr>\n",
       "<tr>\n",
       "  <th>Model:</th>                   <td>OLS</td>       <th>  Adj. R-squared:    </th> <td>   0.630</td>\n",
       "</tr>\n",
       "<tr>\n",
       "  <th>Method:</th>             <td>Least Squares</td>  <th>  F-statistic:       </th> <td>   572.0</td>\n",
       "</tr>\n",
       "<tr>\n",
       "  <th>Date:</th>             <td>Mon, 01 Jan 2024</td> <th>  Prob (F-statistic):</th> <td>2.29e-74</td>\n",
       "</tr>\n",
       "<tr>\n",
       "  <th>Time:</th>                 <td>10:20:50</td>     <th>  Log-Likelihood:    </th> <td>  532.25</td>\n",
       "</tr>\n",
       "<tr>\n",
       "  <th>No. Observations:</th>      <td>   336</td>      <th>  AIC:               </th> <td>  -1061.</td>\n",
       "</tr>\n",
       "<tr>\n",
       "  <th>Df Residuals:</th>          <td>   334</td>      <th>  BIC:               </th> <td>  -1053.</td>\n",
       "</tr>\n",
       "<tr>\n",
       "  <th>Df Model:</th>              <td>     1</td>      <th>                     </th>     <td> </td>   \n",
       "</tr>\n",
       "<tr>\n",
       "  <th>Covariance Type:</th>      <td>nonrobust</td>    <th>                     </th>     <td> </td>   \n",
       "</tr>\n",
       "</table>\n",
       "<table class=\"simpletable\">\n",
       "<tr>\n",
       "      <td></td>        <th>coef</th>     <th>std err</th>      <th>t</th>      <th>P>|t|</th>  <th>[0.025</th>    <th>0.975]</th>  \n",
       "</tr>\n",
       "<tr>\n",
       "  <th>Mkt-RF</th>   <td>    1.5546</td> <td>    0.065</td> <td>   23.917</td> <td> 0.000</td> <td>    1.427</td> <td>    1.682</td>\n",
       "</tr>\n",
       "<tr>\n",
       "  <th>Constant</th> <td>   -0.0055</td> <td>    0.003</td> <td>   -2.014</td> <td> 0.045</td> <td>   -0.011</td> <td>   -0.000</td>\n",
       "</tr>\n",
       "</table>\n",
       "<table class=\"simpletable\">\n",
       "<tr>\n",
       "  <th>Omnibus:</th>       <td>24.614</td> <th>  Durbin-Watson:     </th> <td>   2.016</td>\n",
       "</tr>\n",
       "<tr>\n",
       "  <th>Prob(Omnibus):</th> <td> 0.000</td> <th>  Jarque-Bera (JB):  </th> <td>  42.413</td>\n",
       "</tr>\n",
       "<tr>\n",
       "  <th>Skew:</th>          <td> 0.456</td> <th>  Prob(JB):          </th> <td>6.17e-10</td>\n",
       "</tr>\n",
       "<tr>\n",
       "  <th>Kurtosis:</th>      <td> 4.482</td> <th>  Cond. No.          </th> <td>    23.9</td>\n",
       "</tr>\n",
       "</table><br/><br/>Notes:<br/>[1] Standard Errors assume that the covariance matrix of the errors is correctly specified."
      ],
      "text/latex": [
       "\\begin{center}\n",
       "\\begin{tabular}{lclc}\n",
       "\\toprule\n",
       "\\textbf{Dep. Variable:}    &      Steel       & \\textbf{  R-squared:         } &     0.631   \\\\\n",
       "\\textbf{Model:}            &       OLS        & \\textbf{  Adj. R-squared:    } &     0.630   \\\\\n",
       "\\textbf{Method:}           &  Least Squares   & \\textbf{  F-statistic:       } &     572.0   \\\\\n",
       "\\textbf{Date:}             & Mon, 01 Jan 2024 & \\textbf{  Prob (F-statistic):} &  2.29e-74   \\\\\n",
       "\\textbf{Time:}             &     10:20:50     & \\textbf{  Log-Likelihood:    } &    532.25   \\\\\n",
       "\\textbf{No. Observations:} &         336      & \\textbf{  AIC:               } &    -1061.   \\\\\n",
       "\\textbf{Df Residuals:}     &         334      & \\textbf{  BIC:               } &    -1053.   \\\\\n",
       "\\textbf{Df Model:}         &           1      & \\textbf{                     } &             \\\\\n",
       "\\textbf{Covariance Type:}  &    nonrobust     & \\textbf{                     } &             \\\\\n",
       "\\bottomrule\n",
       "\\end{tabular}\n",
       "\\begin{tabular}{lcccccc}\n",
       "                  & \\textbf{coef} & \\textbf{std err} & \\textbf{t} & \\textbf{P$> |$t$|$} & \\textbf{[0.025} & \\textbf{0.975]}  \\\\\n",
       "\\midrule\n",
       "\\textbf{Mkt-RF}   &       1.5546  &        0.065     &    23.917  &         0.000        &        1.427    &        1.682     \\\\\n",
       "\\textbf{Constant} &      -0.0055  &        0.003     &    -2.014  &         0.045        &       -0.011    &       -0.000     \\\\\n",
       "\\bottomrule\n",
       "\\end{tabular}\n",
       "\\begin{tabular}{lclc}\n",
       "\\textbf{Omnibus:}       & 24.614 & \\textbf{  Durbin-Watson:     } &    2.016  \\\\\n",
       "\\textbf{Prob(Omnibus):} &  0.000 & \\textbf{  Jarque-Bera (JB):  } &   42.413  \\\\\n",
       "\\textbf{Skew:}          &  0.456 & \\textbf{  Prob(JB):          } & 6.17e-10  \\\\\n",
       "\\textbf{Kurtosis:}      &  4.482 & \\textbf{  Cond. No.          } &     23.9  \\\\\n",
       "\\bottomrule\n",
       "\\end{tabular}\n",
       "%\\caption{OLS Regression Results}\n",
       "\\end{center}\n",
       "\n",
       "Notes: \\newline\n",
       " [1] Standard Errors assume that the covariance matrix of the errors is correctly specified."
      ],
      "text/plain": [
       "<class 'statsmodels.iolib.summary.Summary'>\n",
       "\"\"\"\n",
       "                            OLS Regression Results                            \n",
       "==============================================================================\n",
       "Dep. Variable:                  Steel   R-squared:                       0.631\n",
       "Model:                            OLS   Adj. R-squared:                  0.630\n",
       "Method:                 Least Squares   F-statistic:                     572.0\n",
       "Date:                Mon, 01 Jan 2024   Prob (F-statistic):           2.29e-74\n",
       "Time:                        10:20:50   Log-Likelihood:                 532.25\n",
       "No. Observations:                 336   AIC:                            -1061.\n",
       "Df Residuals:                     334   BIC:                            -1053.\n",
       "Df Model:                           1                                         \n",
       "Covariance Type:            nonrobust                                         \n",
       "==============================================================================\n",
       "                 coef    std err          t      P>|t|      [0.025      0.975]\n",
       "------------------------------------------------------------------------------\n",
       "Mkt-RF         1.5546      0.065     23.917      0.000       1.427       1.682\n",
       "Constant      -0.0055      0.003     -2.014      0.045      -0.011      -0.000\n",
       "==============================================================================\n",
       "Omnibus:                       24.614   Durbin-Watson:                   2.016\n",
       "Prob(Omnibus):                  0.000   Jarque-Bera (JB):               42.413\n",
       "Skew:                           0.456   Prob(JB):                     6.17e-10\n",
       "Kurtosis:                       4.482   Cond. No.                         23.9\n",
       "==============================================================================\n",
       "\n",
       "Notes:\n",
       "[1] Standard Errors assume that the covariance matrix of the errors is correctly specified.\n",
       "\"\"\""
      ]
     },
     "execution_count": 5,
     "metadata": {},
     "output_type": "execute_result"
    }
   ],
   "source": [
    "lm = sm.OLS(ind_cw_excess[\"Steel\"], exp_var).fit()\n",
    "lm.summary()"
   ]
  },
  {
   "cell_type": "code",
   "execution_count": 6,
   "id": "595e660d-630c-4842-8c0b-657b0d73d5bc",
   "metadata": {},
   "outputs": [
    {
     "data": {
      "text/html": [
       "<table class=\"simpletable\">\n",
       "<caption>OLS Regression Results</caption>\n",
       "<tr>\n",
       "  <th>Dep. Variable:</th>          <td>Beer</td>       <th>  R-squared:         </th> <td>   0.313</td>\n",
       "</tr>\n",
       "<tr>\n",
       "  <th>Model:</th>                   <td>OLS</td>       <th>  Adj. R-squared:    </th> <td>   0.303</td>\n",
       "</tr>\n",
       "<tr>\n",
       "  <th>Method:</th>             <td>Least Squares</td>  <th>  F-statistic:       </th> <td>   31.87</td>\n",
       "</tr>\n",
       "<tr>\n",
       "  <th>Date:</th>             <td>Mon, 01 Jan 2024</td> <th>  Prob (F-statistic):</th> <td>3.27e-07</td>\n",
       "</tr>\n",
       "<tr>\n",
       "  <th>Time:</th>                 <td>10:20:53</td>     <th>  Log-Likelihood:    </th> <td>  155.66</td>\n",
       "</tr>\n",
       "<tr>\n",
       "  <th>No. Observations:</th>      <td>    72</td>      <th>  AIC:               </th> <td>  -307.3</td>\n",
       "</tr>\n",
       "<tr>\n",
       "  <th>Df Residuals:</th>          <td>    70</td>      <th>  BIC:               </th> <td>  -302.8</td>\n",
       "</tr>\n",
       "<tr>\n",
       "  <th>Df Model:</th>              <td>     1</td>      <th>                     </th>     <td> </td>   \n",
       "</tr>\n",
       "<tr>\n",
       "  <th>Covariance Type:</th>      <td>nonrobust</td>    <th>                     </th>     <td> </td>   \n",
       "</tr>\n",
       "</table>\n",
       "<table class=\"simpletable\">\n",
       "<tr>\n",
       "      <td></td>        <th>coef</th>     <th>std err</th>      <th>t</th>      <th>P>|t|</th>  <th>[0.025</th>    <th>0.975]</th>  \n",
       "</tr>\n",
       "<tr>\n",
       "  <th>Mkt-RF</th>   <td>    0.5860</td> <td>    0.104</td> <td>    5.645</td> <td> 0.000</td> <td>    0.379</td> <td>    0.793</td>\n",
       "</tr>\n",
       "<tr>\n",
       "  <th>Constant</th> <td>    0.0045</td> <td>    0.003</td> <td>    1.289</td> <td> 0.201</td> <td>   -0.002</td> <td>    0.011</td>\n",
       "</tr>\n",
       "</table>\n",
       "<table class=\"simpletable\">\n",
       "<tr>\n",
       "  <th>Omnibus:</th>       <td> 5.069</td> <th>  Durbin-Watson:     </th> <td>   2.196</td>\n",
       "</tr>\n",
       "<tr>\n",
       "  <th>Prob(Omnibus):</th> <td> 0.079</td> <th>  Jarque-Bera (JB):  </th> <td>   4.535</td>\n",
       "</tr>\n",
       "<tr>\n",
       "  <th>Skew:</th>          <td>-0.610</td> <th>  Prob(JB):          </th> <td>   0.104</td>\n",
       "</tr>\n",
       "<tr>\n",
       "  <th>Kurtosis:</th>      <td> 3.155</td> <th>  Cond. No.          </th> <td>    31.2</td>\n",
       "</tr>\n",
       "</table><br/><br/>Notes:<br/>[1] Standard Errors assume that the covariance matrix of the errors is correctly specified."
      ],
      "text/latex": [
       "\\begin{center}\n",
       "\\begin{tabular}{lclc}\n",
       "\\toprule\n",
       "\\textbf{Dep. Variable:}    &       Beer       & \\textbf{  R-squared:         } &     0.313   \\\\\n",
       "\\textbf{Model:}            &       OLS        & \\textbf{  Adj. R-squared:    } &     0.303   \\\\\n",
       "\\textbf{Method:}           &  Least Squares   & \\textbf{  F-statistic:       } &     31.87   \\\\\n",
       "\\textbf{Date:}             & Mon, 01 Jan 2024 & \\textbf{  Prob (F-statistic):} &  3.27e-07   \\\\\n",
       "\\textbf{Time:}             &     10:20:53     & \\textbf{  Log-Likelihood:    } &    155.66   \\\\\n",
       "\\textbf{No. Observations:} &          72      & \\textbf{  AIC:               } &    -307.3   \\\\\n",
       "\\textbf{Df Residuals:}     &          70      & \\textbf{  BIC:               } &    -302.8   \\\\\n",
       "\\textbf{Df Model:}         &           1      & \\textbf{                     } &             \\\\\n",
       "\\textbf{Covariance Type:}  &    nonrobust     & \\textbf{                     } &             \\\\\n",
       "\\bottomrule\n",
       "\\end{tabular}\n",
       "\\begin{tabular}{lcccccc}\n",
       "                  & \\textbf{coef} & \\textbf{std err} & \\textbf{t} & \\textbf{P$> |$t$|$} & \\textbf{[0.025} & \\textbf{0.975]}  \\\\\n",
       "\\midrule\n",
       "\\textbf{Mkt-RF}   &       0.5860  &        0.104     &     5.645  &         0.000        &        0.379    &        0.793     \\\\\n",
       "\\textbf{Constant} &       0.0045  &        0.003     &     1.289  &         0.201        &       -0.002    &        0.011     \\\\\n",
       "\\bottomrule\n",
       "\\end{tabular}\n",
       "\\begin{tabular}{lclc}\n",
       "\\textbf{Omnibus:}       &  5.069 & \\textbf{  Durbin-Watson:     } &    2.196  \\\\\n",
       "\\textbf{Prob(Omnibus):} &  0.079 & \\textbf{  Jarque-Bera (JB):  } &    4.535  \\\\\n",
       "\\textbf{Skew:}          & -0.610 & \\textbf{  Prob(JB):          } &    0.104  \\\\\n",
       "\\textbf{Kurtosis:}      &  3.155 & \\textbf{  Cond. No.          } &     31.2  \\\\\n",
       "\\bottomrule\n",
       "\\end{tabular}\n",
       "%\\caption{OLS Regression Results}\n",
       "\\end{center}\n",
       "\n",
       "Notes: \\newline\n",
       " [1] Standard Errors assume that the covariance matrix of the errors is correctly specified."
      ],
      "text/plain": [
       "<class 'statsmodels.iolib.summary.Summary'>\n",
       "\"\"\"\n",
       "                            OLS Regression Results                            \n",
       "==============================================================================\n",
       "Dep. Variable:                   Beer   R-squared:                       0.313\n",
       "Model:                            OLS   Adj. R-squared:                  0.303\n",
       "Method:                 Least Squares   F-statistic:                     31.87\n",
       "Date:                Mon, 01 Jan 2024   Prob (F-statistic):           3.27e-07\n",
       "Time:                        10:20:53   Log-Likelihood:                 155.66\n",
       "No. Observations:                  72   AIC:                            -307.3\n",
       "Df Residuals:                      70   BIC:                            -302.8\n",
       "Df Model:                           1                                         \n",
       "Covariance Type:            nonrobust                                         \n",
       "==============================================================================\n",
       "                 coef    std err          t      P>|t|      [0.025      0.975]\n",
       "------------------------------------------------------------------------------\n",
       "Mkt-RF         0.5860      0.104      5.645      0.000       0.379       0.793\n",
       "Constant       0.0045      0.003      1.289      0.201      -0.002       0.011\n",
       "==============================================================================\n",
       "Omnibus:                        5.069   Durbin-Watson:                   2.196\n",
       "Prob(Omnibus):                  0.079   Jarque-Bera (JB):                4.535\n",
       "Skew:                          -0.610   Prob(JB):                        0.104\n",
       "Kurtosis:                       3.155   Cond. No.                         31.2\n",
       "==============================================================================\n",
       "\n",
       "Notes:\n",
       "[1] Standard Errors assume that the covariance matrix of the errors is correctly specified.\n",
       "\"\"\""
      ]
     },
     "execution_count": 6,
     "metadata": {},
     "output_type": "execute_result"
    }
   ],
   "source": [
    "lm = sm.OLS(ind_cw_excess.loc[\"2013\":, \"Beer\"], exp_var.loc[\"2013\":]).fit()\n",
    "lm.summary()"
   ]
  },
  {
   "cell_type": "code",
   "execution_count": 31,
   "id": "26a9c219-167b-40c8-beed-5fe2d337e941",
   "metadata": {},
   "outputs": [
    {
     "data": {
      "text/html": [
       "<table class=\"simpletable\">\n",
       "<caption>OLS Regression Results</caption>\n",
       "<tr>\n",
       "  <th>Dep. Variable:</th>          <td>Steel</td>      <th>  R-squared:         </th> <td>   0.556</td>\n",
       "</tr>\n",
       "<tr>\n",
       "  <th>Model:</th>                   <td>OLS</td>       <th>  Adj. R-squared:    </th> <td>   0.536</td>\n",
       "</tr>\n",
       "<tr>\n",
       "  <th>Method:</th>             <td>Least Squares</td>  <th>  F-statistic:       </th> <td>   28.34</td>\n",
       "</tr>\n",
       "<tr>\n",
       "  <th>Date:</th>             <td>Mon, 01 Jan 2024</td> <th>  Prob (F-statistic):</th> <td>5.29e-12</td>\n",
       "</tr>\n",
       "<tr>\n",
       "  <th>Time:</th>                 <td>10:47:16</td>     <th>  Log-Likelihood:    </th> <td>  122.46</td>\n",
       "</tr>\n",
       "<tr>\n",
       "  <th>No. Observations:</th>      <td>    72</td>      <th>  AIC:               </th> <td>  -236.9</td>\n",
       "</tr>\n",
       "<tr>\n",
       "  <th>Df Residuals:</th>          <td>    68</td>      <th>  BIC:               </th> <td>  -227.8</td>\n",
       "</tr>\n",
       "<tr>\n",
       "  <th>Df Model:</th>              <td>     3</td>      <th>                     </th>     <td> </td>   \n",
       "</tr>\n",
       "<tr>\n",
       "  <th>Covariance Type:</th>      <td>nonrobust</td>    <th>                     </th>     <td> </td>   \n",
       "</tr>\n",
       "</table>\n",
       "<table class=\"simpletable\">\n",
       "<tr>\n",
       "      <td></td>        <th>coef</th>     <th>std err</th>      <th>t</th>      <th>P>|t|</th>  <th>[0.025</th>    <th>0.975]</th>  \n",
       "</tr>\n",
       "<tr>\n",
       "  <th>Mkt-RF</th>   <td>    1.3607</td> <td>    0.173</td> <td>    7.849</td> <td> 0.000</td> <td>    1.015</td> <td>    1.707</td>\n",
       "</tr>\n",
       "<tr>\n",
       "  <th>Constant</th> <td>   -0.0076</td> <td>    0.006</td> <td>   -1.346</td> <td> 0.183</td> <td>   -0.019</td> <td>    0.004</td>\n",
       "</tr>\n",
       "<tr>\n",
       "  <th>Value</th>    <td>    0.7771</td> <td>    0.239</td> <td>    3.246</td> <td> 0.002</td> <td>    0.299</td> <td>    1.255</td>\n",
       "</tr>\n",
       "<tr>\n",
       "  <th>Size</th>     <td>    0.3155</td> <td>    0.230</td> <td>    1.369</td> <td> 0.175</td> <td>   -0.144</td> <td>    0.775</td>\n",
       "</tr>\n",
       "</table>\n",
       "<table class=\"simpletable\">\n",
       "<tr>\n",
       "  <th>Omnibus:</th>       <td> 1.796</td> <th>  Durbin-Watson:     </th> <td>   2.271</td>\n",
       "</tr>\n",
       "<tr>\n",
       "  <th>Prob(Omnibus):</th> <td> 0.407</td> <th>  Jarque-Bera (JB):  </th> <td>   1.420</td>\n",
       "</tr>\n",
       "<tr>\n",
       "  <th>Skew:</th>          <td> 0.343</td> <th>  Prob(JB):          </th> <td>   0.492</td>\n",
       "</tr>\n",
       "<tr>\n",
       "  <th>Kurtosis:</th>      <td> 3.042</td> <th>  Cond. No.          </th> <td>    46.1</td>\n",
       "</tr>\n",
       "</table><br/><br/>Notes:<br/>[1] Standard Errors assume that the covariance matrix of the errors is correctly specified."
      ],
      "text/latex": [
       "\\begin{center}\n",
       "\\begin{tabular}{lclc}\n",
       "\\toprule\n",
       "\\textbf{Dep. Variable:}    &      Steel       & \\textbf{  R-squared:         } &     0.556   \\\\\n",
       "\\textbf{Model:}            &       OLS        & \\textbf{  Adj. R-squared:    } &     0.536   \\\\\n",
       "\\textbf{Method:}           &  Least Squares   & \\textbf{  F-statistic:       } &     28.34   \\\\\n",
       "\\textbf{Date:}             & Mon, 01 Jan 2024 & \\textbf{  Prob (F-statistic):} &  5.29e-12   \\\\\n",
       "\\textbf{Time:}             &     10:47:16     & \\textbf{  Log-Likelihood:    } &    122.46   \\\\\n",
       "\\textbf{No. Observations:} &          72      & \\textbf{  AIC:               } &    -236.9   \\\\\n",
       "\\textbf{Df Residuals:}     &          68      & \\textbf{  BIC:               } &    -227.8   \\\\\n",
       "\\textbf{Df Model:}         &           3      & \\textbf{                     } &             \\\\\n",
       "\\textbf{Covariance Type:}  &    nonrobust     & \\textbf{                     } &             \\\\\n",
       "\\bottomrule\n",
       "\\end{tabular}\n",
       "\\begin{tabular}{lcccccc}\n",
       "                  & \\textbf{coef} & \\textbf{std err} & \\textbf{t} & \\textbf{P$> |$t$|$} & \\textbf{[0.025} & \\textbf{0.975]}  \\\\\n",
       "\\midrule\n",
       "\\textbf{Mkt-RF}   &       1.3607  &        0.173     &     7.849  &         0.000        &        1.015    &        1.707     \\\\\n",
       "\\textbf{Constant} &      -0.0076  &        0.006     &    -1.346  &         0.183        &       -0.019    &        0.004     \\\\\n",
       "\\textbf{Value}    &       0.7771  &        0.239     &     3.246  &         0.002        &        0.299    &        1.255     \\\\\n",
       "\\textbf{Size}     &       0.3155  &        0.230     &     1.369  &         0.175        &       -0.144    &        0.775     \\\\\n",
       "\\bottomrule\n",
       "\\end{tabular}\n",
       "\\begin{tabular}{lclc}\n",
       "\\textbf{Omnibus:}       &  1.796 & \\textbf{  Durbin-Watson:     } &    2.271  \\\\\n",
       "\\textbf{Prob(Omnibus):} &  0.407 & \\textbf{  Jarque-Bera (JB):  } &    1.420  \\\\\n",
       "\\textbf{Skew:}          &  0.343 & \\textbf{  Prob(JB):          } &    0.492  \\\\\n",
       "\\textbf{Kurtosis:}      &  3.042 & \\textbf{  Cond. No.          } &     46.1  \\\\\n",
       "\\bottomrule\n",
       "\\end{tabular}\n",
       "%\\caption{OLS Regression Results}\n",
       "\\end{center}\n",
       "\n",
       "Notes: \\newline\n",
       " [1] Standard Errors assume that the covariance matrix of the errors is correctly specified."
      ],
      "text/plain": [
       "<class 'statsmodels.iolib.summary.Summary'>\n",
       "\"\"\"\n",
       "                            OLS Regression Results                            \n",
       "==============================================================================\n",
       "Dep. Variable:                  Steel   R-squared:                       0.556\n",
       "Model:                            OLS   Adj. R-squared:                  0.536\n",
       "Method:                 Least Squares   F-statistic:                     28.34\n",
       "Date:                Mon, 01 Jan 2024   Prob (F-statistic):           5.29e-12\n",
       "Time:                        10:47:16   Log-Likelihood:                 122.46\n",
       "No. Observations:                  72   AIC:                            -236.9\n",
       "Df Residuals:                      68   BIC:                            -227.8\n",
       "Df Model:                           3                                         \n",
       "Covariance Type:            nonrobust                                         \n",
       "==============================================================================\n",
       "                 coef    std err          t      P>|t|      [0.025      0.975]\n",
       "------------------------------------------------------------------------------\n",
       "Mkt-RF         1.3607      0.173      7.849      0.000       1.015       1.707\n",
       "Constant      -0.0076      0.006     -1.346      0.183      -0.019       0.004\n",
       "Value          0.7771      0.239      3.246      0.002       0.299       1.255\n",
       "Size           0.3155      0.230      1.369      0.175      -0.144       0.775\n",
       "==============================================================================\n",
       "Omnibus:                        1.796   Durbin-Watson:                   2.271\n",
       "Prob(Omnibus):                  0.407   Jarque-Bera (JB):                1.420\n",
       "Skew:                           0.343   Prob(JB):                        0.492\n",
       "Kurtosis:                       3.042   Cond. No.                         46.1\n",
       "==============================================================================\n",
       "\n",
       "Notes:\n",
       "[1] Standard Errors assume that the covariance matrix of the errors is correctly specified.\n",
       "\"\"\""
      ]
     },
     "execution_count": 31,
     "metadata": {},
     "output_type": "execute_result"
    }
   ],
   "source": [
    "lm = sm.OLS(ind_cw_excess.loc[\"2013\":\"2018\", \"Steel\"], exp_var.loc[\"2013\":\"2018\"]).fit()\n",
    "lm.summary()\n"
   ]
  },
  {
   "cell_type": "code",
   "execution_count": 8,
   "id": "ad52af5b-f279-4b4a-8063-c17c7f818588",
   "metadata": {},
   "outputs": [],
   "source": [
    "industries = list(ind_cw_excess.columns)\n",
    "betas_1991_1993 = {}\n",
    "highest = lowest = 0\n",
    "\n",
    "for i in industries:\n",
    "    lm = sm.OLS(ind_cw_excess.loc[\"1991\":\"1993\", i], exp_var.loc[\"1991\":\"1993\"]).fit()\n",
    "    aux = lm.params['Mkt-RF']\n",
    "    highest = aux if aux > highest else highest\n",
    "    lowest = aux if aux < lowest else lowest\n",
    "    betas_1991_1993[i] = round(aux, 3)\n",
    "    "
   ]
  },
  {
   "cell_type": "code",
   "execution_count": 9,
   "id": "dc28d4af-acd8-441f-9a67-2f721707c3bb",
   "metadata": {},
   "outputs": [
    {
     "data": {
      "text/plain": [
       "1.6151954971134441"
      ]
     },
     "execution_count": 9,
     "metadata": {},
     "output_type": "execute_result"
    }
   ],
   "source": [
    "highest"
   ]
  },
  {
   "cell_type": "code",
   "execution_count": 10,
   "id": "2bfaf3de-1a12-41e5-8c15-908c7fdfc712",
   "metadata": {},
   "outputs": [
    {
     "data": {
      "text/plain": [
       "{'Agric': 1.028,\n",
       " 'Food': 1.263,\n",
       " 'Soda': 1.319,\n",
       " 'Beer': 1.198,\n",
       " 'Smoke': 1.324,\n",
       " 'Toys': 1.058,\n",
       " 'Fun': 1.029,\n",
       " 'Books': 0.987,\n",
       " 'Hshld': 1.014,\n",
       " 'Clths': 1.517,\n",
       " 'Hlth': 1.615,\n",
       " 'MedEq': 1.474,\n",
       " 'Drugs': 1.249,\n",
       " 'Chems': 0.888,\n",
       " 'Rubbr': 1.169,\n",
       " 'Txtls': 1.131,\n",
       " 'BldMt': 1.172,\n",
       " 'Cnstr': 1.521,\n",
       " 'Steel': 0.946,\n",
       " 'FabPr': 1.245,\n",
       " 'Mach': 1.09,\n",
       " 'ElcEq': 1.218,\n",
       " 'Autos': 0.748,\n",
       " 'Aero': 0.793,\n",
       " 'Ships': 1.21,\n",
       " 'Guns': 0.562,\n",
       " 'Gold': -0.553,\n",
       " 'Mines': 0.275,\n",
       " 'Coal': 0.53,\n",
       " 'Oil': 0.551,\n",
       " 'Util': 0.38,\n",
       " 'Telcm': 0.716,\n",
       " 'PerSv': 0.972,\n",
       " 'BusSv': 1.029,\n",
       " 'Hardw': 1.022,\n",
       " 'Softw': 1.608,\n",
       " 'Chips': 1.273,\n",
       " 'LabEq': 1.253,\n",
       " 'Paper': 0.717,\n",
       " 'Boxes': 0.634,\n",
       " 'Trans': 1.168,\n",
       " 'Whlsl': 1.032,\n",
       " 'Rtail': 1.227,\n",
       " 'Meals': 1.145,\n",
       " 'Banks': 1.359,\n",
       " 'Insur': 0.936,\n",
       " 'RlEst': 0.599,\n",
       " 'Fin': 1.092,\n",
       " 'Other': 1.455}"
      ]
     },
     "execution_count": 10,
     "metadata": {},
     "output_type": "execute_result"
    }
   ],
   "source": [
    "betas_1991_1993"
   ]
  },
  {
   "cell_type": "code",
   "execution_count": 11,
   "id": "8000484a-6795-4c4e-99c1-c1e301ac4166",
   "metadata": {},
   "outputs": [],
   "source": [
    "ind_cw = erk.get_ind_returns(weighting=\"vw\", n_inds=49)[\"1991\":]\n",
    "fff = erk.get_fff_returns()[\"1991\":]"
   ]
  },
  {
   "cell_type": "code",
   "execution_count": 12,
   "id": "b69bad3d-7695-4142-8f51-b04fbc04f0c9",
   "metadata": {},
   "outputs": [
    {
     "data": {
      "text/html": [
       "<div>\n",
       "<style scoped>\n",
       "    .dataframe tbody tr th:only-of-type {\n",
       "        vertical-align: middle;\n",
       "    }\n",
       "\n",
       "    .dataframe tbody tr th {\n",
       "        vertical-align: top;\n",
       "    }\n",
       "\n",
       "    .dataframe thead th {\n",
       "        text-align: right;\n",
       "    }\n",
       "</style>\n",
       "<table border=\"1\" class=\"dataframe\">\n",
       "  <thead>\n",
       "    <tr style=\"text-align: right;\">\n",
       "      <th></th>\n",
       "      <th>Mkt-RF</th>\n",
       "      <th>Constant</th>\n",
       "      <th>Value</th>\n",
       "      <th>Size</th>\n",
       "    </tr>\n",
       "  </thead>\n",
       "  <tbody>\n",
       "    <tr>\n",
       "      <th>1991-01</th>\n",
       "      <td>0.0469</td>\n",
       "      <td>1</td>\n",
       "      <td>-0.0184</td>\n",
       "      <td>0.0379</td>\n",
       "    </tr>\n",
       "    <tr>\n",
       "      <th>1991-02</th>\n",
       "      <td>0.0719</td>\n",
       "      <td>1</td>\n",
       "      <td>-0.0054</td>\n",
       "      <td>0.0395</td>\n",
       "    </tr>\n",
       "    <tr>\n",
       "      <th>1991-03</th>\n",
       "      <td>0.0265</td>\n",
       "      <td>1</td>\n",
       "      <td>-0.0123</td>\n",
       "      <td>0.0389</td>\n",
       "    </tr>\n",
       "    <tr>\n",
       "      <th>1991-04</th>\n",
       "      <td>-0.0028</td>\n",
       "      <td>1</td>\n",
       "      <td>0.0142</td>\n",
       "      <td>0.0050</td>\n",
       "    </tr>\n",
       "    <tr>\n",
       "      <th>1991-05</th>\n",
       "      <td>0.0365</td>\n",
       "      <td>1</td>\n",
       "      <td>-0.0057</td>\n",
       "      <td>-0.0034</td>\n",
       "    </tr>\n",
       "  </tbody>\n",
       "</table>\n",
       "</div>"
      ],
      "text/plain": [
       "         Mkt-RF  Constant   Value    Size\n",
       "1991-01  0.0469         1 -0.0184  0.0379\n",
       "1991-02  0.0719         1 -0.0054  0.0395\n",
       "1991-03  0.0265         1 -0.0123  0.0389\n",
       "1991-04 -0.0028         1  0.0142  0.0050\n",
       "1991-05  0.0365         1 -0.0057 -0.0034"
      ]
     },
     "execution_count": 12,
     "metadata": {},
     "output_type": "execute_result"
    }
   ],
   "source": [
    "import statsmodels.api as sm\n",
    "ind_cw_excess = ind_cw - fff.loc[:, ['RF']].values\n",
    "mkt_excess = fff.loc[:,['Mkt-RF']]\n",
    "exp_var = mkt_excess.copy()\n",
    "exp_var[\"Constant\"] = 1\n",
    "exp_var[\"Value\"] = fff.loc[:,['HML']]\n",
    "exp_var[\"Size\"] = fff.loc[:,['SMB']]\n",
    "exp_var.head()"
   ]
  },
  {
   "cell_type": "code",
   "execution_count": 15,
   "id": "d26e21de-4bb4-493a-8994-c43feb967732",
   "metadata": {},
   "outputs": [
    {
     "data": {
      "text/plain": [
       "Mkt-RF      1.509446\n",
       "Constant   -0.006763\n",
       "Value       0.318073\n",
       "Size        0.493311\n",
       "dtype: float64"
      ]
     },
     "execution_count": 15,
     "metadata": {},
     "output_type": "execute_result"
    }
   ],
   "source": [
    "aux_result = erk.regress(ind_cw_excess.loc[:, \"Steel\"], exp_var, alpha=False)\n",
    "aux_params = aux_result.params\n",
    "aux_params"
   ]
  },
  {
   "cell_type": "code",
   "execution_count": 23,
   "id": "a503ee98-0a45-4466-bcd4-8a94509c06f4",
   "metadata": {},
   "outputs": [],
   "source": [
    "industries = list(ind_cw_excess.columns)\n",
    "params_industy = {}\n",
    "high_val = high_size = -100\n",
    "low_val = low_size = 100\n",
    "\n",
    "for i in industries:\n",
    "    aux_result = erk.regress(ind_cw_excess.loc[:, i], exp_var, alpha=False)\n",
    "    aux_params = aux_result.params\n",
    "    aux = aux_params['Value']\n",
    "    high_val = aux if aux > high_val else high_val\n",
    "    low_val = aux if aux < low_val else low_val\n",
    "\n",
    "    aux = aux_params['Size']\n",
    "    high_size = aux if aux > high_size else high_size\n",
    "    low_size = aux if aux < low_size else low_size\n",
    "    \n",
    "    params_industy[i] = {'Beta': aux_params['Mkt-RF'], 'Value': aux_params['Value'], 'Size': aux_params['Size']}"
   ]
  },
  {
   "cell_type": "code",
   "execution_count": 30,
   "id": "23a0bb01-ec7c-4ebe-b3e7-955d15fbc293",
   "metadata": {},
   "outputs": [
    {
     "data": {
      "text/plain": [
       "0.9835596323179654"
      ]
     },
     "execution_count": 30,
     "metadata": {},
     "output_type": "execute_result"
    }
   ],
   "source": [
    "high_val"
   ]
  },
  {
   "cell_type": "code",
   "execution_count": 25,
   "id": "466444e5-b3db-4688-9702-0751730ea64b",
   "metadata": {},
   "outputs": [
    {
     "data": {
      "text/plain": [
       "-0.8524222656813942"
      ]
     },
     "execution_count": 25,
     "metadata": {},
     "output_type": "execute_result"
    }
   ],
   "source": [
    "low_val"
   ]
  },
  {
   "cell_type": "code",
   "execution_count": 28,
   "id": "c1e3e73c-3275-4926-90b8-b19badbaa032",
   "metadata": {},
   "outputs": [
    {
     "data": {
      "text/plain": [
       "-0.3586552998449451"
      ]
     },
     "execution_count": 28,
     "metadata": {},
     "output_type": "execute_result"
    }
   ],
   "source": [
    "low_size"
   ]
  },
  {
   "cell_type": "code",
   "execution_count": 29,
   "id": "5a7ef0d7-6158-43e2-bd17-cc80ef1431da",
   "metadata": {
    "scrolled": true
   },
   "outputs": [
    {
     "data": {
      "text/plain": [
       "0.6885078137360927"
      ]
     },
     "execution_count": 29,
     "metadata": {},
     "output_type": "execute_result"
    }
   ],
   "source": [
    "high_size"
   ]
  },
  {
   "cell_type": "code",
   "execution_count": 27,
   "id": "9dcd4afe-679c-4d37-adbd-5f0f36bc5189",
   "metadata": {},
   "outputs": [
    {
     "data": {
      "text/plain": [
       "{'Agric': {'Beta': 0.6844042893433072,\n",
       "  'Value': 0.1318969175014459,\n",
       "  'Size': 0.1658560717008091},\n",
       " 'Food': {'Beta': 0.5581168592501251,\n",
       "  'Value': 0.15653598963579612,\n",
       "  'Size': -0.2678734520227165},\n",
       " 'Soda': {'Beta': 0.8171671109626999,\n",
       "  'Value': 0.39764231617533435,\n",
       "  'Size': -0.12158743079713834},\n",
       " 'Beer': {'Beta': 0.5902605685922586,\n",
       "  'Value': 0.006329478646515157,\n",
       "  'Size': -0.3586552998449451},\n",
       " 'Smoke': {'Beta': 0.590790994287149,\n",
       "  'Value': 0.26601829175328884,\n",
       "  'Size': -0.30779440286558923},\n",
       " 'Toys': {'Beta': 0.9398196252310242,\n",
       "  'Value': 0.42376113476142785,\n",
       "  'Size': 0.3298621231914435},\n",
       " 'Fun': {'Beta': 1.3265482419988486,\n",
       "  'Value': 0.31049690632439036,\n",
       "  'Size': 0.2817318864236062},\n",
       " 'Books': {'Beta': 1.0256441837446757,\n",
       "  'Value': 0.43591816757181634,\n",
       "  'Size': 0.13702631754316338},\n",
       " 'Hshld': {'Beta': 0.6462105090202044,\n",
       "  'Value': 0.1258552373075417,\n",
       "  'Size': -0.17112691343789999},\n",
       " 'Clths': {'Beta': 1.0114445100803113,\n",
       "  'Value': 0.34549568719188484,\n",
       "  'Size': 0.05745533491049637},\n",
       " 'Hlth': {'Beta': 0.7966251872008103,\n",
       "  'Value': 0.4882359323641128,\n",
       "  'Size': 0.2346735294550368},\n",
       " 'MedEq': {'Beta': 0.7893801911895141,\n",
       "  'Value': -0.04561572468143619,\n",
       "  'Size': 0.12567584452310254},\n",
       " 'Drugs': {'Beta': 0.7159557472202995,\n",
       "  'Value': -0.2281315903661147,\n",
       "  'Size': -0.3194862550607648},\n",
       " 'Chems': {'Beta': 1.0851279485565164,\n",
       "  'Value': 0.4592677213376568,\n",
       "  'Size': -0.024151361821659452},\n",
       " 'Rubbr': {'Beta': 0.982349495864889,\n",
       "  'Value': 0.4669286268395012,\n",
       "  'Size': 0.44831439960357267},\n",
       " 'Txtls': {'Beta': 1.2361719913605995,\n",
       "  'Value': 0.9835596323179654,\n",
       "  'Size': 0.5359611073189596},\n",
       " 'BldMt': {'Beta': 1.178662717784033,\n",
       "  'Value': 0.6086647501876943,\n",
       "  'Size': 0.19502011004486913},\n",
       " 'Cnstr': {'Beta': 1.1910376630316106,\n",
       "  'Value': 0.6078080969736352,\n",
       "  'Size': 0.40891680799873364},\n",
       " 'Steel': {'Beta': 1.5094462206066073,\n",
       "  'Value': 0.31807306201305585,\n",
       "  'Size': 0.4933105433384196},\n",
       " 'FabPr': {'Beta': 1.0469021586306329,\n",
       "  'Value': 0.4909156385448011,\n",
       "  'Size': 0.6885078137360927},\n",
       " 'Mach': {'Beta': 1.2804662297122311,\n",
       "  'Value': 0.30236095845410793,\n",
       "  'Size': 0.35364400406569957},\n",
       " 'ElcEq': {'Beta': 1.2637868752229187,\n",
       "  'Value': 0.1320636670909054,\n",
       "  'Size': -0.024050052256392784},\n",
       " 'Autos': {'Beta': 1.329641841494301,\n",
       "  'Value': 0.7971943123348426,\n",
       "  'Size': 0.2063250358041035},\n",
       " 'Aero': {'Beta': 1.0618790788528742,\n",
       "  'Value': 0.429772203390157,\n",
       "  'Size': -0.1416076093559681},\n",
       " 'Ships': {'Beta': 1.142406963302582,\n",
       "  'Value': 0.7731956864807055,\n",
       "  'Size': 0.16715557898619637},\n",
       " 'Guns': {'Beta': 0.565987524738573,\n",
       "  'Value': 0.591322674269747,\n",
       "  'Size': -0.00700688166782068},\n",
       " 'Gold': {'Beta': 0.3238173418746372,\n",
       "  'Value': 0.12333644065716276,\n",
       "  'Size': 0.2890939107770448},\n",
       " 'Mines': {'Beta': 1.1599177941843972,\n",
       "  'Value': 0.5656710626439193,\n",
       "  'Size': 0.2678648702284442},\n",
       " 'Coal': {'Beta': 1.111011243095118,\n",
       "  'Value': 0.49782060108068305,\n",
       "  'Size': 0.5343726151789598},\n",
       " 'Oil': {'Beta': 0.8108913190468324,\n",
       "  'Value': 0.42170548596624907,\n",
       "  'Size': -0.01541597096855363},\n",
       " 'Util': {'Beta': 0.44297538199504405,\n",
       "  'Value': 0.294311374262534,\n",
       "  'Size': -0.1769265916072315},\n",
       " 'Telcm': {'Beta': 0.974400142346308,\n",
       "  'Value': -0.05098332701704418,\n",
       "  'Size': -0.19423276744857015},\n",
       " 'PerSv': {'Beta': 0.8745933256849909,\n",
       "  'Value': 0.35662502811795915,\n",
       "  'Size': 0.2731500962263185},\n",
       " 'BusSv': {'Beta': 1.023149837102166,\n",
       "  'Value': -0.023917102267926357,\n",
       "  'Size': 0.20039303675009995},\n",
       " 'Hardw': {'Beta': 1.3348956072985656,\n",
       "  'Value': -0.6904168846526981,\n",
       "  'Size': 0.19775210186010708},\n",
       " 'Softw': {'Beta': 1.255131979218577,\n",
       "  'Value': -0.8524222656813942,\n",
       "  'Size': 0.06610000630433845},\n",
       " 'Chips': {'Beta': 1.394293562462011,\n",
       "  'Value': -0.6001386735758028,\n",
       "  'Size': 0.31993549607592764},\n",
       " 'LabEq': {'Beta': 1.1774423316539049,\n",
       "  'Value': -0.2611017809740954,\n",
       "  'Size': 0.465177760680607},\n",
       " 'Paper': {'Beta': 0.9256119476486768,\n",
       "  'Value': 0.4661149568898266,\n",
       "  'Size': -0.029786341933721205},\n",
       " 'Boxes': {'Beta': 1.02180229436089,\n",
       "  'Value': 0.28336518338785693,\n",
       "  'Size': -0.0005774431811456787},\n",
       " 'Trans': {'Beta': 0.973939384414295,\n",
       "  'Value': 0.432217488000044,\n",
       "  'Size': 0.031009161159704136},\n",
       " 'Whlsl': {'Beta': 0.8637545682186005,\n",
       "  'Value': 0.28659078248119974,\n",
       "  'Size': 0.26549887144814405},\n",
       " 'Rtail': {'Beta': 0.8984328546148941,\n",
       "  'Value': 0.021792614907163298,\n",
       "  'Size': -0.04105528213423594},\n",
       " 'Meals': {'Beta': 0.7812580360753385,\n",
       "  'Value': 0.2597759980854317,\n",
       "  'Size': -0.09467319960405618},\n",
       " 'Banks': {'Beta': 1.2006743833997815,\n",
       "  'Value': 0.8392943396104109,\n",
       "  'Size': -0.1880338221634923},\n",
       " 'Insur': {'Beta': 1.0268586580124581,\n",
       "  'Value': 0.5703696936200894,\n",
       "  'Size': -0.2516492564632703},\n",
       " 'RlEst': {'Beta': 1.1501209604700053,\n",
       "  'Value': 0.8969305201684135,\n",
       "  'Size': 0.687456451223561},\n",
       " 'Fin': {'Beta': 1.413036708364925,\n",
       "  'Value': 0.23930896527918488,\n",
       "  'Size': 0.1219063209541745},\n",
       " 'Other': {'Beta': 1.0883962386597004,\n",
       "  'Value': 0.2831312725455022,\n",
       "  'Size': -0.019303744161605844}}"
      ]
     },
     "execution_count": 27,
     "metadata": {},
     "output_type": "execute_result"
    }
   ],
   "source": [
    "params_industy"
   ]
  },
  {
   "cell_type": "code",
   "execution_count": null,
   "id": "7bf987c6-3c39-4681-8aa5-e38916a67678",
   "metadata": {},
   "outputs": [],
   "source": []
  }
 ],
 "metadata": {
  "kernelspec": {
   "display_name": "Python 3 (ipykernel)",
   "language": "python",
   "name": "python3"
  },
  "language_info": {
   "codemirror_mode": {
    "name": "ipython",
    "version": 3
   },
   "file_extension": ".py",
   "mimetype": "text/x-python",
   "name": "python",
   "nbconvert_exporter": "python",
   "pygments_lexer": "ipython3",
   "version": "3.12.0"
  }
 },
 "nbformat": 4,
 "nbformat_minor": 5
}
