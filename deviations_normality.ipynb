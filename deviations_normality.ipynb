{
 "cells": [
  {
   "cell_type": "code",
   "execution_count": 1,
   "metadata": {
    "pycharm": {
     "is_executing": true,
     "name": "#%%\n"
    }
   },
   "outputs": [],
   "source": [
    "%load_ext autoreload\n",
    "%autoreload 2\n",
    "%matplotlib inline\n",
    "\n",
    "import numpy as np\n",
    "import pandas as pd\n",
    "import scipy.stats\n",
    "\n",
    "import edhec_risk_kit as erk"
   ]
  },
  {
   "cell_type": "code",
   "execution_count": 10,
   "metadata": {
    "pycharm": {
     "name": "#%%\n"
    }
   },
   "outputs": [
    {
     "data": {
      "text/plain": "         Convertible Arbitrage  CTA Global  Distressed Securities  \\\ndate                                                                \n1997-01                 0.0119      0.0393                 0.0178   \n1997-02                 0.0123      0.0298                 0.0122   \n1997-03                 0.0078     -0.0021                -0.0012   \n1997-04                 0.0086     -0.0170                 0.0030   \n1997-05                 0.0156     -0.0015                 0.0233   \n\n         Emerging Markets  Equity Market Neutral  Event Driven  \\\ndate                                                             \n1997-01            0.0791                 0.0189        0.0213   \n1997-02            0.0525                 0.0101        0.0084   \n1997-03           -0.0120                 0.0016       -0.0023   \n1997-04            0.0119                 0.0119       -0.0005   \n1997-05            0.0315                 0.0189        0.0346   \n\n         Fixed Income Arbitrage  Global Macro  Long/Short Equity  \\\ndate                                                               \n1997-01                  0.0191        0.0573             0.0281   \n1997-02                  0.0122        0.0175            -0.0006   \n1997-03                  0.0109       -0.0119            -0.0084   \n1997-04                  0.0130        0.0172             0.0084   \n1997-05                  0.0118        0.0108             0.0394   \n\n         Merger Arbitrage  Relative Value  Short Selling  Funds Of Funds  \ndate                                                                      \n1997-01            0.0150          0.0180        -0.0166          0.0317  \n1997-02            0.0034          0.0118         0.0426          0.0106  \n1997-03            0.0060          0.0010         0.0778         -0.0077  \n1997-04           -0.0001          0.0122        -0.0129          0.0009  \n1997-05            0.0197          0.0173        -0.0737          0.0275  ",
      "text/html": "<div>\n<style scoped>\n    .dataframe tbody tr th:only-of-type {\n        vertical-align: middle;\n    }\n\n    .dataframe tbody tr th {\n        vertical-align: top;\n    }\n\n    .dataframe thead th {\n        text-align: right;\n    }\n</style>\n<table border=\"1\" class=\"dataframe\">\n  <thead>\n    <tr style=\"text-align: right;\">\n      <th></th>\n      <th>Convertible Arbitrage</th>\n      <th>CTA Global</th>\n      <th>Distressed Securities</th>\n      <th>Emerging Markets</th>\n      <th>Equity Market Neutral</th>\n      <th>Event Driven</th>\n      <th>Fixed Income Arbitrage</th>\n      <th>Global Macro</th>\n      <th>Long/Short Equity</th>\n      <th>Merger Arbitrage</th>\n      <th>Relative Value</th>\n      <th>Short Selling</th>\n      <th>Funds Of Funds</th>\n    </tr>\n    <tr>\n      <th>date</th>\n      <th></th>\n      <th></th>\n      <th></th>\n      <th></th>\n      <th></th>\n      <th></th>\n      <th></th>\n      <th></th>\n      <th></th>\n      <th></th>\n      <th></th>\n      <th></th>\n      <th></th>\n    </tr>\n  </thead>\n  <tbody>\n    <tr>\n      <th>1997-01</th>\n      <td>0.0119</td>\n      <td>0.0393</td>\n      <td>0.0178</td>\n      <td>0.0791</td>\n      <td>0.0189</td>\n      <td>0.0213</td>\n      <td>0.0191</td>\n      <td>0.0573</td>\n      <td>0.0281</td>\n      <td>0.0150</td>\n      <td>0.0180</td>\n      <td>-0.0166</td>\n      <td>0.0317</td>\n    </tr>\n    <tr>\n      <th>1997-02</th>\n      <td>0.0123</td>\n      <td>0.0298</td>\n      <td>0.0122</td>\n      <td>0.0525</td>\n      <td>0.0101</td>\n      <td>0.0084</td>\n      <td>0.0122</td>\n      <td>0.0175</td>\n      <td>-0.0006</td>\n      <td>0.0034</td>\n      <td>0.0118</td>\n      <td>0.0426</td>\n      <td>0.0106</td>\n    </tr>\n    <tr>\n      <th>1997-03</th>\n      <td>0.0078</td>\n      <td>-0.0021</td>\n      <td>-0.0012</td>\n      <td>-0.0120</td>\n      <td>0.0016</td>\n      <td>-0.0023</td>\n      <td>0.0109</td>\n      <td>-0.0119</td>\n      <td>-0.0084</td>\n      <td>0.0060</td>\n      <td>0.0010</td>\n      <td>0.0778</td>\n      <td>-0.0077</td>\n    </tr>\n    <tr>\n      <th>1997-04</th>\n      <td>0.0086</td>\n      <td>-0.0170</td>\n      <td>0.0030</td>\n      <td>0.0119</td>\n      <td>0.0119</td>\n      <td>-0.0005</td>\n      <td>0.0130</td>\n      <td>0.0172</td>\n      <td>0.0084</td>\n      <td>-0.0001</td>\n      <td>0.0122</td>\n      <td>-0.0129</td>\n      <td>0.0009</td>\n    </tr>\n    <tr>\n      <th>1997-05</th>\n      <td>0.0156</td>\n      <td>-0.0015</td>\n      <td>0.0233</td>\n      <td>0.0315</td>\n      <td>0.0189</td>\n      <td>0.0346</td>\n      <td>0.0118</td>\n      <td>0.0108</td>\n      <td>0.0394</td>\n      <td>0.0197</td>\n      <td>0.0173</td>\n      <td>-0.0737</td>\n      <td>0.0275</td>\n    </tr>\n  </tbody>\n</table>\n</div>"
     },
     "execution_count": 10,
     "metadata": {},
     "output_type": "execute_result"
    }
   ],
   "source": [
    "hfi = erk.get_hfi_returns()\n",
    "hfi.head()"
   ]
  },
  {
   "cell_type": "code",
   "execution_count": 16,
   "metadata": {
    "pycharm": {
     "name": "#%%\n"
    }
   },
   "outputs": [
    {
     "data": {
      "text/html": [
       "<div>\n",
       "<style scoped>\n",
       "    .dataframe tbody tr th:only-of-type {\n",
       "        vertical-align: middle;\n",
       "    }\n",
       "\n",
       "    .dataframe tbody tr th {\n",
       "        vertical-align: top;\n",
       "    }\n",
       "\n",
       "    .dataframe thead th {\n",
       "        text-align: right;\n",
       "    }\n",
       "</style>\n",
       "<table border=\"1\" class=\"dataframe\">\n",
       "  <thead>\n",
       "    <tr style=\"text-align: right;\">\n",
       "      <th></th>\n",
       "      <th>0</th>\n",
       "      <th>1</th>\n",
       "      <th>2</th>\n",
       "    </tr>\n",
       "  </thead>\n",
       "  <tbody>\n",
       "    <tr>\n",
       "      <th>Convertible Arbitrage</th>\n",
       "      <td>0.005508</td>\n",
       "      <td>0.0065</td>\n",
       "      <td>False</td>\n",
       "    </tr>\n",
       "    <tr>\n",
       "      <th>CTA Global</th>\n",
       "      <td>0.004074</td>\n",
       "      <td>0.0014</td>\n",
       "      <td>True</td>\n",
       "    </tr>\n",
       "    <tr>\n",
       "      <th>Distressed Securities</th>\n",
       "      <td>0.006946</td>\n",
       "      <td>0.0089</td>\n",
       "      <td>False</td>\n",
       "    </tr>\n",
       "    <tr>\n",
       "      <th>Emerging Markets</th>\n",
       "      <td>0.006253</td>\n",
       "      <td>0.0096</td>\n",
       "      <td>False</td>\n",
       "    </tr>\n",
       "    <tr>\n",
       "      <th>Equity Market Neutral</th>\n",
       "      <td>0.004498</td>\n",
       "      <td>0.0051</td>\n",
       "      <td>False</td>\n",
       "    </tr>\n",
       "    <tr>\n",
       "      <th>Event Driven</th>\n",
       "      <td>0.006344</td>\n",
       "      <td>0.0084</td>\n",
       "      <td>False</td>\n",
       "    </tr>\n",
       "    <tr>\n",
       "      <th>Fixed Income Arbitrage</th>\n",
       "      <td>0.004365</td>\n",
       "      <td>0.0055</td>\n",
       "      <td>False</td>\n",
       "    </tr>\n",
       "    <tr>\n",
       "      <th>Global Macro</th>\n",
       "      <td>0.005403</td>\n",
       "      <td>0.0038</td>\n",
       "      <td>True</td>\n",
       "    </tr>\n",
       "    <tr>\n",
       "      <th>Long/Short Equity</th>\n",
       "      <td>0.006331</td>\n",
       "      <td>0.0079</td>\n",
       "      <td>False</td>\n",
       "    </tr>\n",
       "    <tr>\n",
       "      <th>Merger Arbitrage</th>\n",
       "      <td>0.005356</td>\n",
       "      <td>0.0060</td>\n",
       "      <td>False</td>\n",
       "    </tr>\n",
       "    <tr>\n",
       "      <th>Relative Value</th>\n",
       "      <td>0.005792</td>\n",
       "      <td>0.0067</td>\n",
       "      <td>False</td>\n",
       "    </tr>\n",
       "    <tr>\n",
       "      <th>Short Selling</th>\n",
       "      <td>-0.001701</td>\n",
       "      <td>-0.0053</td>\n",
       "      <td>True</td>\n",
       "    </tr>\n",
       "    <tr>\n",
       "      <th>Funds Of Funds</th>\n",
       "      <td>0.004262</td>\n",
       "      <td>0.0052</td>\n",
       "      <td>False</td>\n",
       "    </tr>\n",
       "  </tbody>\n",
       "</table>\n",
       "</div>"
      ],
      "text/plain": [
       "                               0       1      2\n",
       "Convertible Arbitrage   0.005508  0.0065  False\n",
       "CTA Global              0.004074  0.0014   True\n",
       "Distressed Securities   0.006946  0.0089  False\n",
       "Emerging Markets        0.006253  0.0096  False\n",
       "Equity Market Neutral   0.004498  0.0051  False\n",
       "Event Driven            0.006344  0.0084  False\n",
       "Fixed Income Arbitrage  0.004365  0.0055  False\n",
       "Global Macro            0.005403  0.0038   True\n",
       "Long/Short Equity       0.006331  0.0079  False\n",
       "Merger Arbitrage        0.005356  0.0060  False\n",
       "Relative Value          0.005792  0.0067  False\n",
       "Short Selling          -0.001701 -0.0053   True\n",
       "Funds Of Funds          0.004262  0.0052  False"
      ]
     },
     "execution_count": 16,
     "metadata": {},
     "output_type": "execute_result"
    }
   ],
   "source": [
    "# if the mean is lower than the median, that is a sign of skewness towards the left\n",
    "aux = pd.concat([hfi.mean(), hfi.median(), hfi.mean()>hfi.median()], axis='columns')\n",
    "aux"
   ]
  },
  {
   "cell_type": "markdown",
   "metadata": {
    "pycharm": {
     "name": "#%% md\n"
    }
   },
   "source": [
    "## Skewness\n",
    "$$ S(R) = \\frac{E[  (R-E(R))^3  ]}{\\sigma_R^3} $$"
   ]
  },
  {
   "cell_type": "code",
   "execution_count": 21,
   "metadata": {
    "pycharm": {
     "name": "#%%\n"
    }
   },
   "outputs": [
    {
     "data": {
      "text/plain": [
       "Fixed Income Arbitrage   -3.940320\n",
       "Convertible Arbitrage    -2.639592\n",
       "Equity Market Neutral    -2.124435\n",
       "Relative Value           -1.815470\n",
       "Event Driven             -1.409154\n",
       "Merger Arbitrage         -1.320083\n",
       "Distressed Securities    -1.300842\n",
       "Emerging Markets         -1.167067\n",
       "Long/Short Equity        -0.390227\n",
       "Funds Of Funds           -0.361783\n",
       "CTA Global                0.173699\n",
       "Short Selling             0.767975\n",
       "Global Macro              0.982922\n",
       "dtype: float64"
      ]
     },
     "execution_count": 21,
     "metadata": {},
     "output_type": "execute_result"
    }
   ],
   "source": [
    "erk.skewness(hfi).sort_values()"
   ]
  },
  {
   "cell_type": "code",
   "execution_count": 25,
   "metadata": {
    "pycharm": {
     "name": "#%%\n"
    }
   },
   "outputs": [
    {
     "data": {
      "text/plain": [
       "array([-2.63959223,  0.17369864, -1.30084204, -1.16706749, -2.12443538,\n",
       "       -1.40915356, -3.94032029,  0.98292188, -0.39022677, -1.32008333,\n",
       "       -1.81546975,  0.76797484, -0.36178308])"
      ]
     },
     "execution_count": 25,
     "metadata": {},
     "output_type": "execute_result"
    }
   ],
   "source": [
    "scipy.stats.skew(hfi)"
   ]
  },
  {
   "cell_type": "code",
   "execution_count": 39,
   "metadata": {
    "pycharm": {
     "name": "#%%\n"
    }
   },
   "outputs": [
    {
     "data": {
      "text/plain": [
       "-0.07171690135382419"
      ]
     },
     "execution_count": 39,
     "metadata": {},
     "output_type": "execute_result"
    }
   ],
   "source": [
    "normal_rets = np.random.normal(0, 0.15, size=(263, 1))\n",
    "erk.skewness(normal_rets)"
   ]
  },
  {
   "cell_type": "markdown",
   "metadata": {},
   "source": [
    "## Kurtosis\n",
    "$$ S(R) = \\frac{E[  (R-E(R))^4  ]}{\\sigma_R^4} $$"
   ]
  },
  {
   "cell_type": "code",
   "execution_count": 40,
   "metadata": {
    "pycharm": {
     "name": "#%%\n"
    }
   },
   "outputs": [
    {
     "data": {
      "text/plain": [
       "2.5579601209872718"
      ]
     },
     "execution_count": 40,
     "metadata": {},
     "output_type": "execute_result"
    }
   ],
   "source": [
    "erk.kurtosis(normal_rets)"
   ]
  },
  {
   "cell_type": "code",
   "execution_count": 45,
   "metadata": {
    "pycharm": {
     "name": "#%%\n"
    }
   },
   "outputs": [
    {
     "name": "stdout",
     "output_type": "stream",
     "text": [
      "True\n"
     ]
    },
    {
     "data": {
      "text/plain": [
       "Convertible Arbitrage     False\n",
       "CTA Global                 True\n",
       "Distressed Securities     False\n",
       "Emerging Markets          False\n",
       "Equity Market Neutral     False\n",
       "Event Driven              False\n",
       "Fixed Income Arbitrage    False\n",
       "Global Macro              False\n",
       "Long/Short Equity         False\n",
       "Merger Arbitrage          False\n",
       "Relative Value            False\n",
       "Short Selling             False\n",
       "Funds Of Funds            False\n",
       "dtype: bool"
      ]
     },
     "execution_count": 45,
     "metadata": {},
     "output_type": "execute_result"
    }
   ],
   "source": [
    "erk.kurtosis(hfi)\n",
    "scipy.stats.kurtosis(normal_rets) # Returns EXCESS kurtosis (minus 3)\n",
    "\n",
    "# applying the Jarque-Berra normality test\n",
    "print(erk.is_normal(normal_rets))\n",
    "hfi.aggregate(erk.is_normal)    # apply the function to every column and presents the results"
   ]
  },
  {
   "cell_type": "markdown",
   "metadata": {
    "pycharm": {
     "name": "#%% md\n"
    }
   },
   "source": [
    "## Semi-deviation"
   ]
  },
  {
   "cell_type": "code",
   "execution_count": 58,
   "metadata": {
    "pycharm": {
     "name": "#%%\n"
    }
   },
   "outputs": [
    {
     "data": {
      "text/plain": [
       "Convertible Arbitrage     0.019540\n",
       "CTA Global                0.012443\n",
       "Distressed Securities     0.015185\n",
       "Emerging Markets          0.028039\n",
       "Equity Market Neutral     0.009566\n",
       "Event Driven              0.015429\n",
       "Fixed Income Arbitrage    0.017763\n",
       "Global Macro              0.006579\n",
       "Long/Short Equity         0.014051\n",
       "Merger Arbitrage          0.008875\n",
       "Relative Value            0.012244\n",
       "Short Selling             0.027283\n",
       "Funds Of Funds            0.012122\n",
       "dtype: float64"
      ]
     },
     "execution_count": 58,
     "metadata": {},
     "output_type": "execute_result"
    }
   ],
   "source": [
    "hfi[hfi<0].std(ddof=0)"
   ]
  },
  {
   "cell_type": "markdown",
   "metadata": {
    "pycharm": {
     "name": "#%% md\n"
    }
   },
   "source": [
    "## VaR and CVaR\n",
    "Value at Risk and Conditional Value at Risk\n",
    "\n",
    "- Historic VaR\n",
    "- Parametric VaR (Gaussian)\n",
    "- Modified Cornish-Fisher VaR"
   ]
  },
  {
   "cell_type": "code",
   "execution_count": 15,
   "metadata": {
    "pycharm": {
     "name": "#%%\n"
    }
   },
   "outputs": [
    {
     "data": {
      "text/plain": "<Figure size 432x288 with 1 Axes>",
      "image/png": "[encoded data removed]"
     },
     "metadata": {
      "needs_background": "light"
     },
     "output_type": "display_data"
    }
   ],
   "source": [
    "erk.var_historic(hfi)\n",
    "erk.var_gaussian(hfi)\n",
    "erk.var_gaussian(hfi, True)\n",
    "\n",
    "var_list = [erk.var_gaussian(hfi), erk.var_gaussian(hfi, modified=True), erk.var_historic(hfi)]\n",
    "comparison = pd.concat(var_list, axis=1)\n",
    "comparison.columns = ['Gaussian', 'Cornish-Fisher', 'Historic']\n",
    "comparison.plot.bar(title='Hedge Fund Indices: VaR');"
   ]
  },
  {
   "cell_type": "markdown",
   "metadata": {
    "pycharm": {
     "name": "#%% md\n"
    }
   },
   "source": [
    "## Beyond VaR: CVaR"
   ]
  },
  {
   "cell_type": "code",
   "execution_count": 16,
   "metadata": {
    "pycharm": {
     "name": "#%%\n"
    }
   },
   "outputs": [
    {
     "data": {
      "text/plain": "Convertible Arbitrage     0.036550\nCTA Global                0.041264\nDistressed Securities     0.036429\nEmerging Markets          0.072364\nEquity Market Neutral     0.016879\nEvent Driven              0.038336\nFixed Income Arbitrage    0.028257\nGlobal Macro              0.020629\nLong/Short Equity         0.041943\nMerger Arbitrage          0.019143\nRelative Value            0.024650\nShort Selling             0.096821\nFunds Of Funds            0.033207\ndtype: float64"
     },
     "execution_count": 16,
     "metadata": {},
     "output_type": "execute_result"
    }
   ],
   "source": [
    "erk.cvar_historic(hfi)\n",
    "\n"
   ]
  }
 ],
 "metadata": {
  "kernelspec": {
   "display_name": "Python 3 (ipykernel)",
   "language": "python",
   "name": "python3"
  },
  "language_info": {
   "codemirror_mode": {
    "name": "ipython",
    "version": 3
   },
   "file_extension": ".py",
   "mimetype": "text/x-python",
   "name": "python",
   "nbconvert_exporter": "python",
   "pygments_lexer": "ipython3",
   "version": "3.8.7"
  }
 },
 "nbformat": 4,
 "nbformat_minor": 1
}